{
  "cells": [
    {
      "cell_type": "markdown",
      "metadata": {
        "id": "0YUuXo4C79Uw"
      },
      "source": [
        "# Sampleo por Rechazo\n",
        "\n",
        "Es importante mantener la idea de que los algoritmos de numeros pseudo aleatorios solo nos brindan un numero entre 0 y 1 con distribucion uniforme.\n",
        "\n",
        "Si queremos samplear una V.A $X$, vimos 2 maneras de hacerlo:\n",
        "\n",
        "- Si conocemos $F_X$, utilizamos el método de la **funcion inversa**.\n",
        "- Si **NO** conocemos a $F_X$ pero justo $X$ de distribuye de forma *normal*, podeoms utilizar el método **Box Muller**.\n",
        "\n",
        "Si no caemos en los 2 escenarios anteriores, debemos utilizar un nuevo método. En esta clase verémos el método de **sampleo por rechazo**.\n",
        "\n",
        "\n",
        "# Paso a Paso del Método:\n",
        "\n",
        "\n",
        "- **Elegir una Distribución de Propuesta $q(z)$**: Tiene que ser facil de muestrear y tiene que cubrir el mismo soporte (en la practica vale aproximarlo) a nuestra funcion objetivo $p(z)$. Idealmente $q(z)$ debe ser similar a $p(x)$.\n",
        "\n",
        "- **Eleji a $K$:** Elegir una constante $K$ tal que $K \\cdot q(z) \\geq p(z)$\n",
        "\n",
        "- **Generar $z_0$:** Realizar un sampleo de $q(z)$\n",
        "\n",
        "- **Generar $u_0$:** Realizar un sampleo de $U_0 ∼ U[0, kq(z_0)]$\n",
        "\n",
        "- **Aceptar o Rechazar:** Si $u_0 \\leq p(z_0)$, aceptamos a $u_0$. Si no es así, la rechazamos.\n"
      ]
    },
    {
      "cell_type": "markdown",
      "metadata": {
        "id": "sxCJmk7s9f22"
      },
      "source": [
        "# Objetivo\n",
        "\n",
        "\n",
        "El objetivo va a ser samplear a la distribucion (no normalizada)\n",
        "\n",
        "$$p(x) = e^{-\\frac{x^2}{2}} \\left( \\sin^2(6+x) + 3 \\cdot \\cos^2(x) \\cdot \\sin^2(4x) + 1 \\right)\n",
        ",$$\n",
        "\n",
        "cuya distribucion acumulada se ve muy muy dificil de encontrar."
      ]
    },
    {
      "cell_type": "markdown",
      "metadata": {
        "id": "5mbFYiLXDRKA"
      },
      "source": [
        "# Ejercicio 1\n",
        "\n",
        "Graficar la funcion $p(x)$ ¿Cuál es su soporte?\n"
      ]
    },
    {
      "cell_type": "code",
      "execution_count": 2,
      "metadata": {
        "id": "YkKokyF2G9cN"
      },
      "outputs": [
        {
          "data": {
            "image/png": "[encoded data removed]",
            "text/plain": [
              "<Figure size 640x480 with 1 Axes>"
            ]
          },
          "metadata": {},
          "output_type": "display_data"
        }
      ],
      "source": [
        "import numpy as np\n",
        "\n",
        "# p(x)\n",
        "def p(x):\n",
        "    term1 = np.exp(-x**2 / 2)\n",
        "    term2 = np.sin(6 + x)**2\n",
        "    term3 = 3 * np.cos(x)**2 * np.sin(4 * x)**2\n",
        "    return term1 * (term2 + term3 + 1)\n",
        "\n",
        "# Graficar p(x)\n",
        "import matplotlib.pyplot as plt\n",
        "x = np.linspace(-10, 10, 1000)\n",
        "plt.plot(x, p(x))\n",
        "plt.xlabel('x')\n",
        "plt.ylabel('p(x)')\n",
        "plt.title('p(x)')\n",
        "plt.grid()\n",
        "plt.show()\n",
        "\n",
        "\n"
      ]
    },
    {
      "cell_type": "markdown",
      "metadata": {
        "id": "ZPetDYg0Hlmr"
      },
      "source": [
        "# Ejercicio 2\n",
        "\n",
        "Utilizar el método de Sampleo por Rechazo.\n",
        "\n",
        "\n",
        "2.1  \n",
        "- Utilizar una Uniforme(a,b) como $q(z)$\n",
        "- Encontrar un $K_1$ válido\n",
        "- ¿Cual es la proporcion de aceptacion para nuestro sampleo?\n",
        "- Realizar un histograma de la aproximacion de $p(z)$\n",
        "\n",
        "2.2\n",
        "- Utilizar una Normal($\\mu, σ^2$) como $q(z)$\n",
        "- Encontrar un $K_2$ válido.\n",
        "- ¿Cual es la proporcion de aceptacion para nuestro sampleo?\n",
        "- Realizar un histograma de la aproximacion de $p(z)$\n",
        "\n",
        "\n",
        "OPCIONAL (Recomendado):\n",
        "\n",
        "- Para practicar sus habilidades en sampleo, utilizar unicamente Uniformes(0,1) para realizar este ejericio.\n",
        "\n",
        "- Hacer un plot mostrando en color rojo si el par $(z_i, u_i) \\geq p(z)$ y verde si sucede lo contrario.\n",
        "\n",
        "\n",
        "\n"
      ]
    },
    {
      "cell_type": "code",
      "execution_count": 1,
      "metadata": {
        "id": "MkD0cI71NtlB"
      },
      "outputs": [
        {
          "name": "stdout",
          "output_type": "stream",
          "text": [
            "37\n"
          ]
        },
        {
          "ename": "NameError",
          "evalue": "name 'np' is not defined",
          "output_type": "error",
          "traceback": [
            "\u001b[1;31m---------------------------------------------------------------------------\u001b[0m",
            "\u001b[1;31mNameError\u001b[0m                                 Traceback (most recent call last)",
            "Cell \u001b[1;32mIn[1], line 19\u001b[0m\n\u001b[0;32m     17\u001b[0m         \u001b[38;5;28;01mbreak\u001b[39;00m\n\u001b[0;32m     18\u001b[0m k \u001b[38;5;241m=\u001b[39m \u001b[38;5;241m37\u001b[39m\n\u001b[1;32m---> 19\u001b[0m x \u001b[38;5;241m=\u001b[39m \u001b[43mnp\u001b[49m\u001b[38;5;241m.\u001b[39mlinspace(\u001b[38;5;241m-\u001b[39m\u001b[38;5;241m10\u001b[39m, \u001b[38;5;241m10\u001b[39m, \u001b[38;5;241m1000\u001b[39m)\n\u001b[0;32m     20\u001b[0m plt\u001b[38;5;241m.\u001b[39mplot(x, p(x))\n\u001b[0;32m     21\u001b[0m plt\u001b[38;5;241m.\u001b[39mplot(x, k\u001b[38;5;241m*\u001b[39mq_z\u001b[38;5;241m.\u001b[39mpdf(x))\n",
            "\u001b[1;31mNameError\u001b[0m: name 'np' is not defined"
          ]
        }
      ],
      "source": [
        "# Ejercicio 2 - Sampleo por Rechazo\n",
        "\n",
        "# Ejercicio 2.1 - CASO UNIFORME\n",
        "\n",
        "import scipy.stats as stats\n",
        "#Utilizar una Uniforme(a,b) como q(z)\n",
        "# Encontrar un K_1 válido\n",
        "# ¿Cual es la proporcion de aceptacion para nuestro sampleo?\n",
        "# Realizar un histograma de la aproximacion de p(z)\n",
        "q_z = stats.uniform(loc=-5, scale=10)\n",
        "n = 10000\n",
        "\n",
        "\n",
        "for k in range(1000):\n",
        "    if k*1/10 > 3.6:\n",
        "        print(k)\n",
        "        break\n",
        "k = 37\n",
        "x = np.linspace(-10, 10, 1000)\n",
        "plt.plot(x, p(x))\n",
        "plt.plot(x, k*q_z.pdf(x))\n",
        "plt.xlabel('x')\n",
        "plt.ylabel('p(x)')\n",
        "plt.title('p(x)')\n",
        "plt.grid()\n",
        "plt.show()\n",
        "\n",
        "z = q_z.rvs(n)\n",
        "u = stats.uniform(0, k/10).rvs(n)\n",
        "z_accepted = []\n",
        "\n",
        "for i in range(n):\n",
        "    if u[i] < p(z[i]):\n",
        "        z_accepted.append(z[i])\n",
        "\n",
        "\n",
        "plt.hist(z_accepted, bins=100, density=True)\n",
        "plt.xlabel('x')\n",
        "plt.ylabel('p(x)')\n",
        "plt.title('p(x)')\n",
        "plt.grid()\n",
        "plt.show()\n",
        "\n",
        "\n",
        "\n",
        "\n",
        "# Ejercicio 2.2 - CASO NORMAL\n",
        "n_z = stats.norm(loc=0, scale=1)\n",
        "#Utilizar una Normal(0,5) como q(z)\n",
        "# Encontrar un K_2 válido\n",
        "# ¿Cual es la proporcion de aceptacion para nuestro sampleo?\n",
        "# Realizar un histograma de la aproximacion de p(z)\n",
        "\n",
        "\n",
        "k = 10\n",
        "x = np.linspace(-10, 10, 1000)\n",
        "plt.plot(x, p(x))\n",
        "plt.plot(x, k*n_z.pdf(x))\n",
        "plt.xlabel('x')\n",
        "plt.ylabel('p(x)')\n",
        "plt.title('p(x)')\n",
        "plt.grid()\n",
        "plt.show()\n",
        "\n",
        "z = n_z.rvs(n)\n",
        "n_accepted = []\n",
        "for i in range(n):\n",
        "    u = stats.uniform(0, k*n_z.pdf(z[i])).rvs(1)\n",
        "    if u < p(z[i]):\n",
        "        n_accepted.append(z[i])\n",
        "\n",
        "plt.hist(n_accepted, bins=100, density=True)\n",
        "plt.xlabel('x')\n",
        "plt.ylabel('p(x)')\n",
        "plt.title('p(x)')\n",
        "plt.grid()\n"
      ]
    },
    {
      "cell_type": "markdown",
      "metadata": {
        "id": "RmOl-Fk0NKQ4"
      },
      "source": [
        "# Ejercicio 3\n",
        "\n",
        "Responder:\n",
        "\n",
        "- Cual función $q(z)$ aproxima mejor a p(z)? Cual es la proporcion de aceptacion para cada una?\n",
        "\n"
      ]
    }
  ],
  "metadata": {
    "colab": {
      "provenance": []
    },
    "kernelspec": {
      "display_name": "Python 3",
      "name": "python3"
    },
    "language_info": {
      "codemirror_mode": {
        "name": "ipython",
        "version": 3
      },
      "file_extension": ".py",
      "mimetype": "text/x-python",
      "name": "python",
      "nbconvert_exporter": "python",
      "pygments_lexer": "ipython3",
      "version": "3.11.2"
    }
  },
  "nbformat": 4,
  "nbformat_minor": 0
}
